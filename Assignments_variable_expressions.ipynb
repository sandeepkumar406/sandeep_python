{
 "cells": [
  {
   "cell_type": "code",
   "execution_count": 1,
   "metadata": {},
   "outputs": [
    {
     "name": "stdout",
     "output_type": "stream",
     "text": [
      "welcome\n",
      "Total number of buses:5\n",
      "Total number of seats in bus:40\n"
     ]
    },
    {
     "data": {
      "text/plain": [
       "'40'"
      ]
     },
     "execution_count": 1,
     "metadata": {},
     "output_type": "execute_result"
    }
   ],
   "source": [
    "print(\"welcome\")\n",
    "input(\"Total number of buses:\")\n",
    "input(\"Total number of seats in bus:\")"
   ]
  },
  {
   "cell_type": "code",
   "execution_count": 2,
   "metadata": {},
   "outputs": [
    {
     "name": "stdout",
     "output_type": "stream",
     "text": [
      "welcome\n",
      "Total number of people:100\n",
      "Total number of seats in bus:40\n"
     ]
    },
    {
     "ename": "TypeError",
     "evalue": "unsupported operand type(s) for /: 'str' and 'str'",
     "output_type": "error",
     "traceback": [
      "\u001b[1;31m---------------------------------------------------------------------------\u001b[0m",
      "\u001b[1;31mTypeError\u001b[0m                                 Traceback (most recent call last)",
      "\u001b[1;32m<ipython-input-2-762a0eda664d>\u001b[0m in \u001b[0;36m<module>\u001b[1;34m\u001b[0m\n\u001b[0;32m      2\u001b[0m \u001b[0mp\u001b[0m\u001b[1;33m=\u001b[0m\u001b[0minput\u001b[0m\u001b[1;33m(\u001b[0m\u001b[1;34m\"Total number of people:\"\u001b[0m\u001b[1;33m)\u001b[0m\u001b[1;33m\u001b[0m\u001b[1;33m\u001b[0m\u001b[0m\n\u001b[0;32m      3\u001b[0m \u001b[0mb\u001b[0m\u001b[1;33m=\u001b[0m\u001b[0minput\u001b[0m\u001b[1;33m(\u001b[0m\u001b[1;34m\"Total number of seats in bus:\"\u001b[0m\u001b[1;33m)\u001b[0m\u001b[1;33m\u001b[0m\u001b[1;33m\u001b[0m\u001b[0m\n\u001b[1;32m----> 4\u001b[1;33m \u001b[0mj\u001b[0m\u001b[1;33m=\u001b[0m\u001b[0mint\u001b[0m\u001b[1;33m(\u001b[0m\u001b[0mp\u001b[0m\u001b[1;33m/\u001b[0m\u001b[0mb\u001b[0m\u001b[1;33m)\u001b[0m\u001b[1;33m\u001b[0m\u001b[1;33m\u001b[0m\u001b[0m\n\u001b[0m\u001b[0;32m      5\u001b[0m \u001b[1;33m\u001b[0m\u001b[0m\n",
      "\u001b[1;31mTypeError\u001b[0m: unsupported operand type(s) for /: 'str' and 'str'"
     ]
    }
   ],
   "source": [
    "print(\"welcome\")\n",
    "p=input(\"Total number of people:\")\n",
    "b=input(\"Total number of seats in bus:\")\n",
    "j=int(p/b)\n",
    "   "
   ]
  },
  {
   "cell_type": "code",
   "execution_count": 3,
   "metadata": {},
   "outputs": [
    {
     "name": "stdout",
     "output_type": "stream",
     "text": [
      "welcome\n",
      "Total number of people:100\n",
      "Total number of seats in bus:50\n",
      "2.0\n"
     ]
    }
   ],
   "source": [
    "print(\"welcome\")\n",
    "p=input(\"Total number of people:\")\n",
    "b=input(\"Total number of seats in bus:\")\n",
    "a=int(p)\n",
    "b=int(b)\n",
    "j=a/b\n",
    "print(j)"
   ]
  },
  {
   "cell_type": "code",
   "execution_count": 4,
   "metadata": {},
   "outputs": [
    {
     "ename": "SyntaxError",
     "evalue": "invalid syntax (<ipython-input-4-b9dbd6974502>, line 7)",
     "output_type": "error",
     "traceback": [
      "\u001b[1;36m  File \u001b[1;32m\"<ipython-input-4-b9dbd6974502>\"\u001b[1;36m, line \u001b[1;32m7\u001b[0m\n\u001b[1;33m    print(\"number of buses required=\" j)\u001b[0m\n\u001b[1;37m                                      ^\u001b[0m\n\u001b[1;31mSyntaxError\u001b[0m\u001b[1;31m:\u001b[0m invalid syntax\n"
     ]
    }
   ],
   "source": [
    "print(\"welcome\")\n",
    "p=input(\"Total number of people:\")\n",
    "b=input(\"Total number of seats in bus:\")\n",
    "a=int(p)\n",
    "b=int(b)\n",
    "j=a/b\n",
    "print(\"number of buses required=\" j)"
   ]
  },
  {
   "cell_type": "code",
   "execution_count": 5,
   "metadata": {},
   "outputs": [
    {
     "name": "stdout",
     "output_type": "stream",
     "text": [
      "welcome\n",
      "Total number of people:100\n",
      "Total number of seats in bus:50\n",
      "number of buses required= 2.0\n"
     ]
    }
   ],
   "source": [
    "print(\"welcome\")\n",
    "p=input(\"Total number of people:\")\n",
    "b=input(\"Total number of seats in bus:\")\n",
    "a=int(p)\n",
    "b=int(b)\n",
    "j=a/b\n",
    "print(\"number of buses required=\", j)"
   ]
  },
  {
   "cell_type": "code",
   "execution_count": 6,
   "metadata": {},
   "outputs": [
    {
     "name": "stdout",
     "output_type": "stream",
     "text": [
      "welcome\n",
      "Total number of people:100\n",
      "Total number of seats in bus:50\n",
      "number of buses required= 2\n"
     ]
    }
   ],
   "source": [
    "print(\"welcome\")\n",
    "p=input(\"Total number of people:\")\n",
    "b=input(\"Total number of seats in bus:\")\n",
    "a=int(p)\n",
    "b=int(b)\n",
    "j=a/b\n",
    "print(\"number of buses required=\",int(j))"
   ]
  },
  {
   "cell_type": "code",
   "execution_count": 7,
   "metadata": {},
   "outputs": [
    {
     "name": "stdout",
     "output_type": "stream",
     "text": [
      "welcome\n",
      "Total number of people:120\n",
      "Total number of seats in bus:35\n",
      "number of buses required= 3\n"
     ]
    }
   ],
   "source": [
    "print(\"welcome\")\n",
    "p=input(\"Total number of people:\")\n",
    "b=input(\"Total number of seats in bus:\")\n",
    "a=int(p)\n",
    "b=int(b)\n",
    "j=a/b\n",
    "print(\"number of buses required=\",int(j))"
   ]
  },
  {
   "cell_type": "code",
   "execution_count": 8,
   "metadata": {},
   "outputs": [
    {
     "name": "stdout",
     "output_type": "stream",
     "text": [
      "welcome\n",
      "Total number of people:90\n",
      "Total number of seats in bus:100\n",
      "number of buses required= 0\n"
     ]
    }
   ],
   "source": [
    "print(\"welcome\")\n",
    "p=input(\"Total number of people:\")\n",
    "b=input(\"Total number of seats in bus:\")\n",
    "a=int(p)\n",
    "b=int(b)\n",
    "j=a/b\n",
    "print(\"number of buses required=\",int(j))"
   ]
  },
  {
   "cell_type": "code",
   "execution_count": 9,
   "metadata": {},
   "outputs": [
    {
     "name": "stdout",
     "output_type": "stream",
     "text": [
      "Total number of people:100\n"
     ]
    }
   ],
   "source": [
    "p=int(input(\"Total number of people:\"))"
   ]
  },
  {
   "cell_type": "code",
   "execution_count": 10,
   "metadata": {},
   "outputs": [
    {
     "name": "stdout",
     "output_type": "stream",
     "text": [
      "Total number of people:100\n",
      "100\n"
     ]
    }
   ],
   "source": [
    "p=int(input(\"Total number of people:\"))\n",
    "print(p)"
   ]
  },
  {
   "cell_type": "code",
   "execution_count": 11,
   "metadata": {},
   "outputs": [
    {
     "name": "stdout",
     "output_type": "stream",
     "text": [
      "Total number of people:100\n",
      "50.0\n"
     ]
    }
   ],
   "source": [
    "p=int(input(\"Total number of people:\"))\n",
    "j=p/2\n",
    "print(j)"
   ]
  },
  {
   "cell_type": "code",
   "execution_count": 12,
   "metadata": {},
   "outputs": [
    {
     "name": "stdout",
     "output_type": "stream",
     "text": [
      "Total number of people:31\n",
      "15.5\n"
     ]
    }
   ],
   "source": [
    "p=int(input(\"Total number of people:\"))\n",
    "j=p/2\n",
    "print(j)"
   ]
  },
  {
   "cell_type": "code",
   "execution_count": 13,
   "metadata": {},
   "outputs": [
    {
     "name": "stdout",
     "output_type": "stream",
     "text": [
      "Temperature in celsius:10\n",
      "50.0\n"
     ]
    }
   ],
   "source": [
    "temp=int(input(\"Temperature in celsius:\"))\n",
    "foreign_heat=(temp)*(1.8)+32\n",
    "print(foreign_heat)"
   ]
  },
  {
   "cell_type": "code",
   "execution_count": 14,
   "metadata": {},
   "outputs": [
    {
     "name": "stdout",
     "output_type": "stream",
     "text": [
      "Temperature in celsius:10\n",
      "Temperature converted from celsius to foreign heat 50.0\n"
     ]
    }
   ],
   "source": [
    "temp=int(input(\"Temperature in celsius:\"))\n",
    "foreign_heat=(temp)*(1.8)+32\n",
    "print(\"Temperature converted from celsius to foreign heat\",foreign_heat)"
   ]
  },
  {
   "cell_type": "code",
   "execution_count": 15,
   "metadata": {},
   "outputs": [
    {
     "name": "stdout",
     "output_type": "stream",
     "text": [
      "Temperature in celsius:10\n",
      "Temperature converted from celsius to foreign heat is: 50.0\n"
     ]
    }
   ],
   "source": [
    "#Assignment-3 convertion temperature from celsius to foreign heat\n",
    "temp=int(input(\"Temperature in celsius:\"))\n",
    "foreign_heat=(temp)*(1.8)+32\n",
    "print(\"Temperature converted from celsius to foreign heat is:\",foreign_heat)"
   ]
  },
  {
   "cell_type": "code",
   "execution_count": 16,
   "metadata": {},
   "outputs": [
    {
     "name": "stdout",
     "output_type": "stream",
     "text": [
      "Temperature in Foreign heat:50\n",
      "Temperature converted from Foreign heat to celsius temp is: 32.22222222222222\n"
     ]
    }
   ],
   "source": [
    "#Assignment-2 convertion temperature from foreign heat to celsius\n",
    "temp=int(input(\"Temperature in Foreign heat:\"))\n",
    "celsius_temp=(temp)-32/1.8\n",
    "print(\"Temperature converted from Foreign heat to celsius temp is:\",celsius_temp)"
   ]
  },
  {
   "cell_type": "code",
   "execution_count": 17,
   "metadata": {},
   "outputs": [
    {
     "name": "stdout",
     "output_type": "stream",
     "text": [
      "Temperature in celsius:10\n",
      "Temperature converted from celsius to foreign heat is: 338.0\n"
     ]
    }
   ],
   "source": [
    "#Assignment-3 convertion temperature from celsius to foreign heat#wrong\n",
    "temp=int(input(\"Temperature in celsius:\"))\n",
    "foreign_heat=(temp)*((1.8)+32)\n",
    "print(\"Temperature converted from celsius to foreign heat is:\",foreign_heat)"
   ]
  },
  {
   "cell_type": "code",
   "execution_count": 18,
   "metadata": {},
   "outputs": [
    {
     "name": "stdout",
     "output_type": "stream",
     "text": [
      "Temperature in Foreign heat:50\n",
      "Temperature converted from Foreign heat to celsius temp is: -4.222222222222221\n"
     ]
    }
   ],
   "source": [
    "#Assignment-2 convertion temperature from foreign heat to celsius#wrong\n",
    "temp=int(input(\"Temperature in Foreign heat:\"))\n",
    "celsius_temp=(temp)/1.8-32\n",
    "print(\"Temperature converted from Foreign heat to celsius temp is:\",celsius_temp)"
   ]
  },
  {
   "cell_type": "code",
   "execution_count": 19,
   "metadata": {},
   "outputs": [
    {
     "name": "stdout",
     "output_type": "stream",
     "text": [
      "Temperature in Foreign heat:50\n",
      "Temperature converted from Foreign heat to celsius temp is: 10.0\n"
     ]
    }
   ],
   "source": [
    "#Assignment-2 convertion temperature from foreign heat to celsius\n",
    "temp=int(input(\"Temperature in Foreign heat:\"))\n",
    "celsius_temp=(temp-32)/1.8\n",
    "print(\"Temperature converted from Foreign heat to celsius temp is:\",celsius_temp)"
   ]
  },
  {
   "cell_type": "code",
   "execution_count": 20,
   "metadata": {},
   "outputs": [
    {
     "name": "stdout",
     "output_type": "stream",
     "text": [
      "enter number of kms:1\n"
     ]
    },
    {
     "ename": "TypeError",
     "evalue": "unsupported operand type(s) for /: 'str' and 'int'",
     "output_type": "error",
     "traceback": [
      "\u001b[1;31m---------------------------------------------------------------------------\u001b[0m",
      "\u001b[1;31mTypeError\u001b[0m                                 Traceback (most recent call last)",
      "\u001b[1;32m<ipython-input-20-dc7e8fec160c>\u001b[0m in \u001b[0;36m<module>\u001b[1;34m\u001b[0m\n\u001b[0;32m      1\u001b[0m \u001b[0mkms\u001b[0m\u001b[1;33m=\u001b[0m\u001b[0minput\u001b[0m\u001b[1;33m(\u001b[0m\u001b[1;34m\"enter number of kms:\"\u001b[0m\u001b[1;33m)\u001b[0m\u001b[1;33m\u001b[0m\u001b[1;33m\u001b[0m\u001b[0m\n\u001b[1;32m----> 2\u001b[1;33m \u001b[0mmeters\u001b[0m\u001b[1;33m=\u001b[0m\u001b[0mkms\u001b[0m\u001b[1;33m/\u001b[0m\u001b[1;36m1000\u001b[0m\u001b[1;33m\u001b[0m\u001b[1;33m\u001b[0m\u001b[0m\n\u001b[0m\u001b[0;32m      3\u001b[0m \u001b[0mprint\u001b[0m\u001b[1;33m(\u001b[0m\u001b[1;34m\"conversion from kms to meters:\"\u001b[0m\u001b[1;33m)\u001b[0m\u001b[1;33m\u001b[0m\u001b[1;33m\u001b[0m\u001b[0m\n\u001b[0;32m      4\u001b[0m \u001b[1;33m\u001b[0m\u001b[0m\n",
      "\u001b[1;31mTypeError\u001b[0m: unsupported operand type(s) for /: 'str' and 'int'"
     ]
    }
   ],
   "source": [
    "kms=input(\"enter number of kms:\")\n",
    "meters=kms/1000\n",
    "print(\"conversion from kms to meters:\")\n",
    "\n"
   ]
  },
  {
   "cell_type": "code",
   "execution_count": 21,
   "metadata": {},
   "outputs": [
    {
     "name": "stdout",
     "output_type": "stream",
     "text": [
      "enter number of kms:1\n",
      "conversion from kms to meters:\n"
     ]
    }
   ],
   "source": [
    "kms=int(input(\"enter number of kms:\"))\n",
    "meters=kms/1000\n",
    "print(\"conversion from kms to meters:\")"
   ]
  },
  {
   "cell_type": "code",
   "execution_count": 25,
   "metadata": {},
   "outputs": [
    {
     "name": "stdout",
     "output_type": "stream",
     "text": [
      "enter number of kms:2\n",
      "conversion from kms to meters: 2000\n",
      "conversion from kms to centi meters: 200000\n",
      "conversion from kms to milli meters: 2000000\n",
      "conversion from kms to feets: 6561.68\n"
     ]
    }
   ],
   "source": [
    "#assignment-5\n",
    "kms=int(input(\"enter number of kms:\"))\n",
    "meters=kms*1000\n",
    "centi_meters=kms*100000\n",
    "milli_meters=kms*1000000\n",
    "feets=kms*3280.84\n",
    "print(\"conversion from kms to meters:\",meters)\n",
    "print(\"conversion from kms to centi meters:\",centi_meters)\n",
    "print(\"conversion from kms to milli meters:\",milli_meters)\n",
    "print(\"conversion from kms to feets:\",feets)"
   ]
  },
  {
   "cell_type": "code",
   "execution_count": 27,
   "metadata": {},
   "outputs": [
    {
     "name": "stdout",
     "output_type": "stream",
     "text": [
      "Enter memory in GB:1\n",
      "conversion from GBs to MB: 1000\n",
      "conversion from GBS to KB: 10000000\n",
      "conversion from GBS to TB: 0.001\n",
      "conversion from GBS to PB: 1e-06\n"
     ]
    }
   ],
   "source": [
    "#Assignment-6  #correct\n",
    "memory_GB=int(input(\"Enter memory in GB:\"))\n",
    "mega_bytes_memory=memory_GB*1000\n",
    "kilo_bytes_memory=memory_GB*1000000\n",
    "terra_bytes_memory=memory_GB/1000\n",
    "pico_bytes_memory=memory_GB/1000000\n",
    "print(\"conversion from GBs to MB:\",mega_bytes_memory)\n",
    "print(\"conversion from GBS to KB:\",kilo_bytes_memory)\n",
    "print(\"conversion from GBS to TB:\",terra_bytes_memory)\n",
    "print(\"conversion from GBS to PB:\",pico_bytes_memory)\n"
   ]
  },
  {
   "cell_type": "code",
   "execution_count": 36,
   "metadata": {},
   "outputs": [
    {
     "name": "stdout",
     "output_type": "stream",
     "text": [
      "Name of the person:sandeep\n",
      "Age of the person:29\n",
      "Height of the person:5.6\n",
      "The details of person:Name:sandeep, Age:29, Height:5.6\n"
     ]
    }
   ],
   "source": [
    "#assignmnt-7 #correct\n",
    "name=input(\"Name of the person:\")\n",
    "age=input(\"Age of the person:\")\n",
    "height=input(\"Height of the person:\")\n",
    "print(\"The details of person:Name:\"+name+\", Age:\"+age+\", Height:\"+height)"
   ]
  },
  {
   "cell_type": "code",
   "execution_count": 46,
   "metadata": {},
   "outputs": [
    {
     "name": "stdout",
     "output_type": "stream",
     "text": [
      "Weight of the person:62\n",
      "Height of the person:5.6\n",
      "BMI of the person: 0.3632358455193101\n"
     ]
    }
   ],
   "source": [
    "#assignment-8 #need to check formulae to calculate the BMI\n",
    "weight=float(input(\"Weight of the person:\"))\n",
    "Height=float(input(\"Height of the person:\"))\n",
    "BMI_formula=(weight)/(30.48*Height)\n",
    "print(\"BMI of the person:\",BMI_formula)"
   ]
  },
  {
   "cell_type": "code",
   "execution_count": 47,
   "metadata": {},
   "outputs": [
    {
     "name": "stdout",
     "output_type": "stream",
     "text": [
      "Name: %s,age:%.2f,Height:%.2f,Weight:%.2f\n"
     ]
    },
    {
     "ename": "TypeError",
     "evalue": "unsupported operand type(s) for %: 'NoneType' and 'tuple'",
     "output_type": "error",
     "traceback": [
      "\u001b[1;31m---------------------------------------------------------------------------\u001b[0m",
      "\u001b[1;31mTypeError\u001b[0m                                 Traceback (most recent call last)",
      "\u001b[1;32m<ipython-input-47-04c7db604242>\u001b[0m in \u001b[0;36m<module>\u001b[1;34m\u001b[0m\n\u001b[0;32m      4\u001b[0m \u001b[0mheight\u001b[0m\u001b[1;33m=\u001b[0m\u001b[1;36m3.5356234\u001b[0m\u001b[1;33m\u001b[0m\u001b[1;33m\u001b[0m\u001b[0m\n\u001b[0;32m      5\u001b[0m \u001b[0mweight\u001b[0m\u001b[1;33m=\u001b[0m\u001b[1;36m10.343856783\u001b[0m\u001b[1;33m\u001b[0m\u001b[1;33m\u001b[0m\u001b[0m\n\u001b[1;32m----> 6\u001b[1;33m \u001b[0mprint\u001b[0m\u001b[1;33m(\u001b[0m\u001b[1;34m\"Name: %s,age:%.2f,Height:%.2f,Weight:%.2f\"\u001b[0m\u001b[1;33m)\u001b[0m\u001b[1;33m%\u001b[0m\u001b[1;33m(\u001b[0m\u001b[0mname\u001b[0m\u001b[1;33m,\u001b[0m\u001b[0mage\u001b[0m\u001b[1;33m,\u001b[0m\u001b[0mheight\u001b[0m\u001b[1;33m,\u001b[0m\u001b[0mweight\u001b[0m\u001b[1;33m)\u001b[0m\u001b[1;33m\u001b[0m\u001b[1;33m\u001b[0m\u001b[0m\n\u001b[0m",
      "\u001b[1;31mTypeError\u001b[0m: unsupported operand type(s) for %: 'NoneType' and 'tuple'"
     ]
    }
   ],
   "source": [
    "#assignment-9\n",
    "name=\"jayram\"\n",
    "age=1.6\n",
    "height=3.5356234\n",
    "weight=10.343856783\n",
    "print(\"Name: %s,age:%.2f,Height:%.2f,Weight:%.2f\")%(name,age,height,weight)"
   ]
  },
  {
   "cell_type": "code",
   "execution_count": null,
   "metadata": {},
   "outputs": [],
   "source": []
  },
  {
   "cell_type": "code",
   "execution_count": 56,
   "metadata": {},
   "outputs": [
    {
     "name": "stdout",
     "output_type": "stream",
     "text": [
      "Name:jayaram,Age:1.6,Height:3.54,Weight:10.344\n"
     ]
    }
   ],
   "source": [
    "#assignment-9 by using format specifiers(%s,%d,%f) # correct \n",
    "name=\"jayaram\"\n",
    "age=1.6\n",
    "height=3.5356234\n",
    "weight=10.343856783\n",
    "print(\"Name:%s,Age:%.1f,Height:%.2f,Weight:%.3f\" %(name,age,height,weight))"
   ]
  },
  {
   "cell_type": "code",
   "execution_count": 63,
   "metadata": {},
   "outputs": [
    {
     "name": "stdout",
     "output_type": "stream",
     "text": [
      "Enter three capital letters:ABC\n"
     ]
    },
    {
     "ename": "TypeError",
     "evalue": "ord() expected a character, but string of length 3 found",
     "output_type": "error",
     "traceback": [
      "\u001b[1;31m---------------------------------------------------------------------------\u001b[0m",
      "\u001b[1;31mTypeError\u001b[0m                                 Traceback (most recent call last)",
      "\u001b[1;32m<ipython-input-63-ab8473eb4243>\u001b[0m in \u001b[0;36m<module>\u001b[1;34m\u001b[0m\n\u001b[0;32m      1\u001b[0m \u001b[1;31m#assignment-10\u001b[0m\u001b[1;33m\u001b[0m\u001b[1;33m\u001b[0m\u001b[1;33m\u001b[0m\u001b[0m\n\u001b[0;32m      2\u001b[0m \u001b[0mwords\u001b[0m\u001b[1;33m=\u001b[0m\u001b[0minput\u001b[0m\u001b[1;33m(\u001b[0m\u001b[1;34m\"Enter three capital letters:\"\u001b[0m\u001b[1;33m)\u001b[0m\u001b[1;33m\u001b[0m\u001b[1;33m\u001b[0m\u001b[0m\n\u001b[1;32m----> 3\u001b[1;33m \u001b[0mlower_case\u001b[0m\u001b[1;33m=\u001b[0m\u001b[0mord\u001b[0m\u001b[1;33m(\u001b[0m\u001b[0mwords\u001b[0m\u001b[1;33m)\u001b[0m   \u001b[1;31m#conversion to ascii number\u001b[0m\u001b[1;33m\u001b[0m\u001b[1;33m\u001b[0m\u001b[0m\n\u001b[0m\u001b[0;32m      4\u001b[0m \u001b[0moutput\u001b[0m\u001b[1;33m=\u001b[0m\u001b[0mlower_case\u001b[0m\u001b[1;33m+\u001b[0m\u001b[1;36m32\u001b[0m   \u001b[1;31m#add 32 get the lower case letter equalavent number\u001b[0m\u001b[1;33m\u001b[0m\u001b[1;33m\u001b[0m\u001b[0m\n\u001b[0;32m      5\u001b[0m \u001b[0mprint\u001b[0m\u001b[1;33m(\u001b[0m\u001b[0mchr\u001b[0m\u001b[1;33m(\u001b[0m\u001b[0moutput\u001b[0m\u001b[1;33m)\u001b[0m\u001b[1;33m)\u001b[0m    \u001b[1;31m#convert to character\u001b[0m\u001b[1;33m\u001b[0m\u001b[1;33m\u001b[0m\u001b[0m\n",
      "\u001b[1;31mTypeError\u001b[0m: ord() expected a character, but string of length 3 found"
     ]
    }
   ],
   "source": [
    "#assignment-10\n",
    "words=input(\"Enter three capital letters:\")\n",
    "lower_case=ord(words)   #conversion to ascii number\n",
    "output=lower_case+32   #add 32 get the lower case letter equalavent number\n",
    "print(chr(output))    #convert to character"
   ]
  },
  {
   "cell_type": "code",
   "execution_count": 69,
   "metadata": {},
   "outputs": [
    {
     "name": "stdout",
     "output_type": "stream",
     "text": [
      "Enter three capital letters:ABC\n"
     ]
    },
    {
     "ename": "NameError",
     "evalue": "name 'lower' is not defined",
     "output_type": "error",
     "traceback": [
      "\u001b[1;31m---------------------------------------------------------------------------\u001b[0m",
      "\u001b[1;31mNameError\u001b[0m                                 Traceback (most recent call last)",
      "\u001b[1;32m<ipython-input-69-c6e0cc5d3780>\u001b[0m in \u001b[0;36m<module>\u001b[1;34m\u001b[0m\n\u001b[0;32m      1\u001b[0m \u001b[1;31m#assignment-10 #alternate method by using lower function\u001b[0m\u001b[1;33m\u001b[0m\u001b[1;33m\u001b[0m\u001b[1;33m\u001b[0m\u001b[0m\n\u001b[0;32m      2\u001b[0m \u001b[0mwords\u001b[0m\u001b[1;33m=\u001b[0m\u001b[0minput\u001b[0m\u001b[1;33m(\u001b[0m\u001b[1;34m\"Enter three capital letters:\"\u001b[0m\u001b[1;33m)\u001b[0m\u001b[1;33m\u001b[0m\u001b[1;33m\u001b[0m\u001b[0m\n\u001b[1;32m----> 3\u001b[1;33m \u001b[0mlower1\u001b[0m\u001b[1;33m=\u001b[0m\u001b[0mlower\u001b[0m\u001b[1;33m.\u001b[0m\u001b[0mwords\u001b[0m\u001b[1;33m\u001b[0m\u001b[1;33m\u001b[0m\u001b[0m\n\u001b[0m\u001b[0;32m      4\u001b[0m \u001b[0mprint\u001b[0m\u001b[1;33m(\u001b[0m\u001b[0mlower1\u001b[0m\u001b[1;33m)\u001b[0m\u001b[1;33m\u001b[0m\u001b[1;33m\u001b[0m\u001b[0m\n",
      "\u001b[1;31mNameError\u001b[0m: name 'lower' is not defined"
     ]
    }
   ],
   "source": [
    "#assignment-10 #alternate method by using lower function\n",
    "words=input(\"Enter three capital letters:\") \n",
    "lower1=lower.words\n",
    "print(lower1)"
   ]
  },
  {
   "cell_type": "code",
   "execution_count": 66,
   "metadata": {},
   "outputs": [
    {
     "name": "stdout",
     "output_type": "stream",
     "text": [
      "enter  char: c\n"
     ]
    },
    {
     "ename": "NameError",
     "evalue": "name 'upper' is not defined",
     "output_type": "error",
     "traceback": [
      "\u001b[1;31m---------------------------------------------------------------------------\u001b[0m",
      "\u001b[1;31mNameError\u001b[0m                                 Traceback (most recent call last)",
      "\u001b[1;32m<ipython-input-66-2b7128ce2c73>\u001b[0m in \u001b[0;36m<module>\u001b[1;34m\u001b[0m\n\u001b[0;32m      1\u001b[0m \u001b[0ma\u001b[0m\u001b[1;33m=\u001b[0m\u001b[0minput\u001b[0m\u001b[1;33m(\u001b[0m\u001b[1;34m\"enter  char: \"\u001b[0m\u001b[1;33m)\u001b[0m\u001b[1;33m\u001b[0m\u001b[1;33m\u001b[0m\u001b[0m\n\u001b[1;32m----> 2\u001b[1;33m \u001b[0mc\u001b[0m\u001b[1;33m=\u001b[0m\u001b[0mupper\u001b[0m\u001b[1;33m(\u001b[0m\u001b[0ma\u001b[0m\u001b[1;33m)\u001b[0m\u001b[1;33m\u001b[0m\u001b[1;33m\u001b[0m\u001b[0m\n\u001b[0m\u001b[0;32m      3\u001b[0m \u001b[0mprint\u001b[0m\u001b[1;33m(\u001b[0m\u001b[0mc\u001b[0m\u001b[1;33m)\u001b[0m\u001b[1;33m\u001b[0m\u001b[1;33m\u001b[0m\u001b[0m\n",
      "\u001b[1;31mNameError\u001b[0m: name 'upper' is not defined"
     ]
    }
   ],
   "source": [
    "a=input(\"enter  char: \")\n",
    "c=upper(a)\n",
    "print(c)"
   ]
  },
  {
   "cell_type": "code",
   "execution_count": 67,
   "metadata": {},
   "outputs": [
    {
     "name": "stdout",
     "output_type": "stream",
     "text": [
      "enter  char: b\n",
      "<built-in method upper of str object at 0x000001A7022C9180>\n"
     ]
    }
   ],
   "source": [
    "a=input(\"enter  char: \")\n",
    "c=a.upper\n",
    "print(c)"
   ]
  },
  {
   "cell_type": "code",
   "execution_count": 1,
   "metadata": {},
   "outputs": [
    {
     "name": "stdout",
     "output_type": "stream",
     "text": [
      "total cost of grocieres: 450\n",
      "average cost: 150.0\n"
     ]
    }
   ],
   "source": [
    "#Assignment-12\n",
    "tomota_cost=100\n",
    "potato_cost=200\n",
    "mangoes_cost=150\n",
    "total_cost=(tomota_cost+potato_cost+mangoes_cost)\n",
    "Average_cost=total_cost/3\n",
    "print(\"total cost of grocieres:\",total_cost)\n",
    "print(\"average cost:\",Average_cost)\n",
    "\n"
   ]
  },
  {
   "cell_type": "code",
   "execution_count": null,
   "metadata": {},
   "outputs": [],
   "source": []
  }
 ],
 "metadata": {
  "kernelspec": {
   "display_name": "Python 3",
   "language": "python",
   "name": "python3"
  },
  "language_info": {
   "codemirror_mode": {
    "name": "ipython",
    "version": 3
   },
   "file_extension": ".py",
   "mimetype": "text/x-python",
   "name": "python",
   "nbconvert_exporter": "python",
   "pygments_lexer": "ipython3",
   "version": "3.7.1"
  }
 },
 "nbformat": 4,
 "nbformat_minor": 2
}
